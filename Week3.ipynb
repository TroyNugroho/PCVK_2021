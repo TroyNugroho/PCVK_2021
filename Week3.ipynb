{
  "nbformat": 4,
  "nbformat_minor": 0,
  "metadata": {
    "colab": {
      "name": "Week3.ipynb",
      "provenance": [],
      "mount_file_id": "1FcjIIv_otatXbT9-x8Uy66BemTFh6qu9",
      "authorship_tag": "ABX9TyMJ7TCD2AGdLKmbiTta4LID",
      "include_colab_link": true
    },
    "kernelspec": {
      "name": "python3",
      "display_name": "Python 3"
    }
  },
  "cells": [
    {
      "cell_type": "markdown",
      "metadata": {
        "id": "view-in-github",
        "colab_type": "text"
      },
      "source": [
        "<a href=\"https://colab.research.google.com/github/TroyNugroho/PCVK_2021/blob/main/Week3.ipynb\" target=\"_parent\"><img src=\"https://colab.research.google.com/assets/colab-badge.svg\" alt=\"Open In Colab\"/></a>"
      ]
    },
    {
      "cell_type": "code",
      "metadata": {
        "colab": {
          "base_uri": "https://localhost:8080/"
        },
        "id": "V1Jx58DLlUKg",
        "outputId": "90281b2e-4226-4951-f12b-73f315f136c9"
      },
      "source": [
        "from google.colab import drive\r\n",
        "\r\n",
        "drive.mount('/content/drive')"
      ],
      "execution_count": 1,
      "outputs": [
        {
          "output_type": "stream",
          "text": [
            "Mounted at /content/drive\n"
          ],
          "name": "stdout"
        }
      ]
    },
    {
      "cell_type": "code",
      "metadata": {
        "id": "JMzZd3WnmbQm"
      },
      "source": [
        "print(' Mengubah tingkat kecerahan citra ')\r\n",
        "print('----------------------------------')\r\n",
        "try:\r\n",
        "  bringhtness = int(input('Masukan nilai kecerahan: '))\r\n",
        "except ValueError:\r\n",
        "  print('Error, not a number')\r\n",
        "\r\n",
        "original = cv.imread('/content/drive/MyDrive/PCVK/Images/Alpha by Sartika3091 on DeviantArt.png')\r\n",
        "brightness_image = np.zeros(original.shape, original.dtype)\r\n",
        "\r\n",
        "#akses per piksel\r\n",
        "for y in range(original.shape[0]):\r\n",
        "  for x in range(original.shape[2]):\r\n",
        "    for c in range(original.shape[2]):\r\n",
        "      brightness_image[y,x,c] = np.clip(original[y,x,c] + brightness, 0, 255)\r\n",
        "\r\n",
        "final_frame = cv.hconcat((original, brightness_image))\r\n",
        "cv2_imshow(final_frame)\r\n"
      ],
      "execution_count": null,
      "outputs": []
    }
  ]
}